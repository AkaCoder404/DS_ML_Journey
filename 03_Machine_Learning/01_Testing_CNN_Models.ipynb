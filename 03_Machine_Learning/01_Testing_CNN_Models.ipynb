{
 "cells": [
  {
   "cell_type": "markdown",
   "metadata": {},
   "source": [
    "# Testing CNN Models\n",
    "\n",
    "In this notebook, I will be training and tracking the performance of different image recognition / object detection / object segmentation etc starting from the basics. \n",
    "\n",
    "Some of the models that I use are my implementations of popular CNN models such as:\n",
    "\n",
    "- MobileNetV1.py"
   ]
  },
  {
   "cell_type": "code",
   "execution_count": 1,
   "metadata": {},
   "outputs": [],
   "source": [
    "# Import proper libraries\n",
    "import os\n",
    "import sys\n",
    "import time\n",
    "\n",
    "import torch\n",
    "import torch.nn as nn\n",
    "import torchsummary as summary\n",
    "\n",
    "# Detect devices (as well as mps for arm macos)\n",
    "device = torch.device(\"cuda:0\" if torch.cuda.is_available() else \"cpu\")"
   ]
  },
  {
   "cell_type": "code",
   "execution_count": 2,
   "metadata": {},
   "outputs": [],
   "source": [
    "# Custom libraries\n",
    "import importlib.util\n",
    "\n",
    "def spec_loader(module_path, module_name):\n",
    "    spec = importlib.util.spec_from_file_location(module_name, module_path)\n",
    "    module = importlib.util.module_from_spec(spec)\n",
    "    spec.loader.exec_module(module)\n",
    "    return module"
   ]
  },
  {
   "cell_type": "markdown",
   "metadata": {},
   "source": [
    "## Simple MLP\n",
    "Let's have the most simple ANN. A MLP neural network and see its performance on handwritten image set MNIST."
   ]
  },
  {
   "cell_type": "code",
   "execution_count": 3,
   "metadata": {},
   "outputs": [
    {
     "name": "stdout",
     "output_type": "stream",
     "text": [
      "Length of Train 938 Shape of Train torch.Size([60000, 28, 28])\n",
      "Length of Test 157 Shape of Test torch.Size([10000, 28, 28])\n",
      "First 10 labels in the training set\n"
     ]
    }
   ],
   "source": [
    "# Load Data\n",
    "mnist = spec_loader('./utils/image_data_loaders.py', 'MNISTDataLoader')\n",
    "mnist_loader = mnist.MNISTDataLoader(batch_size = 64)\n",
    "\n",
    "train_loader, test_loader = mnist_loader.get_data_loaders()\n",
    "print(\"Length of Train\", len(train_loader), \"Shape of Train\", train_loader.dataset.data.shape)\n",
    "print(\"Length of Test\", len(test_loader), \"Shape of Test\", test_loader.dataset.data.shape)\n",
    "\n",
    "# Print first 10 labels\n",
    "print(\"First 10 labels in the training set\")\n",
    "# for i in range(10):\n",
    "#     print(train_loader.dataset.targets[i])\n",
    "\n",
    "# Reshape the data to fit into the model\n",
    "train_loader = [(x.reshape(-1, 28*28), y) for x, y in train_loader]\n",
    "test_loader = [(x.reshape(-1, 28*28), y) for x, y in test_loader]"
   ]
  },
  {
   "cell_type": "code",
   "execution_count": 4,
   "metadata": {},
   "outputs": [
    {
     "name": "stdout",
     "output_type": "stream",
     "text": [
      "Epoch 1/5\n"
     ]
    },
    {
     "name": "stderr",
     "output_type": "stream",
     "text": [
      "100%|██████████| 938/938 [00:01<00:00, 517.00it/s]\n",
      "100%|██████████| 157/157 [00:00<00:00, 4469.08it/s]"
     ]
    },
    {
     "name": "stdout",
     "output_type": "stream",
     "text": [
      "Train Accuracy: 60.059701492537314, Train Loss: 0.20305666417630117\n",
      "Test Accuracy: 61.57324840764331, Test Loss: 0.1057655869146726\n",
      "Epoch 2/5\n"
     ]
    },
    {
     "name": "stderr",
     "output_type": "stream",
     "text": [
      "\n",
      "100%|██████████| 938/938 [00:01<00:00, 684.54it/s]\n",
      "100%|██████████| 157/157 [00:00<00:00, 4436.38it/s]"
     ]
    },
    {
     "name": "stdout",
     "output_type": "stream",
     "text": [
      "Train Accuracy: 62.346481876332625, Train Loss: 0.08277704467280095\n",
      "Test Accuracy: 62.05732484076433, Test Loss: 0.08196814471535432\n",
      "Epoch 3/5\n"
     ]
    },
    {
     "name": "stderr",
     "output_type": "stream",
     "text": [
      "\n",
      "100%|██████████| 938/938 [00:01<00:00, 664.31it/s]\n",
      "100%|██████████| 157/157 [00:00<00:00, 4475.61it/s]"
     ]
    },
    {
     "name": "stdout",
     "output_type": "stream",
     "text": [
      "Train Accuracy: 62.93923240938166, Train Loss: 0.05233331520863965\n",
      "Test Accuracy: 62.35668789808917, Test Loss: 0.06860047741385272\n",
      "Epoch 4/5\n"
     ]
    },
    {
     "name": "stderr",
     "output_type": "stream",
     "text": [
      "\n",
      "100%|██████████| 938/938 [00:01<00:00, 689.80it/s]\n",
      "100%|██████████| 157/157 [00:00<00:00, 4452.55it/s]"
     ]
    },
    {
     "name": "stdout",
     "output_type": "stream",
     "text": [
      "Train Accuracy: 63.26759061833689, Train Loss: 0.035385933716712926\n",
      "Test Accuracy: 62.254777070063696, Test Loss: 0.07416734800846049\n",
      "Epoch 5/5\n"
     ]
    },
    {
     "name": "stderr",
     "output_type": "stream",
     "text": [
      "\n",
      "100%|██████████| 938/938 [00:01<00:00, 688.66it/s]\n",
      "100%|██████████| 157/157 [00:00<00:00, 4475.34it/s]"
     ]
    },
    {
     "name": "stdout",
     "output_type": "stream",
     "text": [
      "Train Accuracy: 63.37420042643923, Train Loss: 0.028277178129828127\n",
      "Test Accuracy: 62.10828025477707, Test Loss: 0.08663639272713312\n",
      "Training finished\n",
      "--------------------------------------------------\n"
     ]
    },
    {
     "name": "stderr",
     "output_type": "stream",
     "text": [
      "\n"
     ]
    }
   ],
   "source": [
    "# Model\n",
    "module_path = './03_Recreating_CNN_Models/SimpleMLP.py'\n",
    "simple_mlp = spec_loader(module_path, 'SimpleMLP')\n",
    "model = simple_mlp.SimpleMLP(input_size=784, hidden_size=500, num_classes=10)\n",
    "\n",
    "# Import trainer helper function\n",
    "trainer = spec_loader('./utils/pytorch_train_template.py', 'Training')\n",
    "trainer = trainer.Training(\n",
    "    model = model,\n",
    "    train_loader = train_loader,\n",
    "    test_loader = test_loader,\n",
    "    criterion = nn.CrossEntropyLoss(),\n",
    "    optimizer = torch.optim.Adam(model.parameters(), lr=0.001),\n",
    "    num_epochs = 5,\n",
    "    new_train_dir = \"./out/SimpleMLP/\"\n",
    ")\n",
    "\n",
    "trainer.start_training()"
   ]
  },
  {
   "cell_type": "markdown",
   "metadata": {},
   "source": [
    "## SimpleCNN\n",
    "Now let's compare this with the CNN models that are proposed in the paper \"Esemble of CNNs for Hnadwritten Digit Recognition\"."
   ]
  },
  {
   "cell_type": "code",
   "execution_count": 16,
   "metadata": {},
   "outputs": [
    {
     "name": "stdout",
     "output_type": "stream",
     "text": [
      "Epoch 1/5\n"
     ]
    },
    {
     "name": "stderr",
     "output_type": "stream",
     "text": [
      "  0%|          | 0/938 [00:00<?, ?it/s]"
     ]
    },
    {
     "name": "stderr",
     "output_type": "stream",
     "text": [
      "100%|██████████| 938/938 [01:16<00:00, 12.23it/s]\n",
      "100%|██████████| 157/157 [00:03<00:00, 39.29it/s]"
     ]
    },
    {
     "name": "stdout",
     "output_type": "stream",
     "text": [
      "Train Accuracy: 61.21535181236674, Train Loss: 0.18035050448395615\n",
      "Test Accuracy: 62.560509554140125, Test Loss: 0.06425977997618258\n",
      "Epoch 2/5\n"
     ]
    },
    {
     "name": "stderr",
     "output_type": "stream",
     "text": [
      "\n",
      " 73%|███████▎  | 682/938 [00:55<00:20, 12.49it/s]"
     ]
    }
   ],
   "source": [
    "# Get the model\n",
    "simple_cnn = spec_loader('./03_Recreating_CNN_Models/MnistK3.py', 'ModelM3')\n",
    "simple_cnn = simple_cnn.ModelM3(in_channels=1, num_classes=10)\n",
    "\n",
    "# Load the dataset\n",
    "mnist_loader = mnist.MNISTDataLoader(batch_size = 64)\n",
    "train_loader, test_loader = mnist_loader.get_data_loaders()\n",
    "\n",
    "# Train the model\n",
    "trainer = spec_loader('./utils/pytorch_train_template.py', 'Training')\n",
    "trainer = trainer.Training(\n",
    "    model = simple_cnn,\n",
    "    train_loader = train_loader,\n",
    "    test_loader = test_loader,\n",
    "    criterion = nn.CrossEntropyLoss(),\n",
    "    optimizer = torch.optim.Adam(simple_cnn.parameters(), lr=0.01),\n",
    "    num_epochs = 5,\n",
    "    new_train_dir = \"./out/SimpleCNN/\"\n",
    ")\n",
    "trainer.start_training()"
   ]
  }
 ],
 "metadata": {
  "kernelspec": {
   "display_name": "ultra",
   "language": "python",
   "name": "python3"
  },
  "language_info": {
   "codemirror_mode": {
    "name": "ipython",
    "version": 3
   },
   "file_extension": ".py",
   "mimetype": "text/x-python",
   "name": "python",
   "nbconvert_exporter": "python",
   "pygments_lexer": "ipython3",
   "version": "3.8.18"
  }
 },
 "nbformat": 4,
 "nbformat_minor": 2
}
